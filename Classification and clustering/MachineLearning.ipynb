{
 "cells": [
  {
   "cell_type": "markdown",
   "metadata": {},
   "source": [
    "# Exercise 1 - Clustering"
   ]
  },
  {
   "cell_type": "markdown",
   "metadata": {},
   "source": [
    "This exercice uses scikit-learn library to find clusters in the collection of documents."
   ]
  },
  {
   "cell_type": "code",
   "execution_count": 1,
   "metadata": {},
   "outputs": [],
   "source": [
    "import re\n",
    "import math\n",
    "import string\n",
    "from nltk.stem.porter import PorterStemmer\n",
    "from sklearn.cluster import KMeans\n",
    "from sklearn.cluster import AgglomerativeClustering\n",
    "from sklearn.feature_extraction.text import TfidfVectorizer"
   ]
  },
  {
   "cell_type": "markdown",
   "metadata": {},
   "source": [
    "See the code below. It does the text document preprocessing - tokenization, normalization and stemming"
   ]
  },
  {
   "cell_type": "code",
   "execution_count": 2,
   "metadata": {},
   "outputs": [],
   "source": [
    "def tokenizeAndNormalize(text):\n",
    "    return [re.sub(r'\\W+', '', s) for s in re.split(' |;|,|\\t|\\n|\\.', text) if len(s) > 0]\n",
    "\n",
    "def stemTokens(tokens):\n",
    "    stemmer = PorterStemmer()\n",
    "    return [stemmer.stem(item) for item in tokens]\n",
    "\n",
    "def preprocessing(text):\n",
    "    return stemTokens(tokenizeAndNormalize(text))\n",
    "        "
   ]
  },
  {
   "cell_type": "markdown",
   "metadata": {},
   "source": [
    "The class Collection parses dictionary and documents files. Field dictionary contains list of stemmed keywords, field documents list of texts and titles list of document titles. Additionnaly, field documentsCount contains the number of documents in collection."
   ]
  },
  {
   "cell_type": "code",
   "execution_count": 25,
   "metadata": {},
   "outputs": [],
   "source": [
    "class Collection:\n",
    "    def __init__(self, documentsPath, dictionaryPath):\n",
    "        file = open(dictionaryPath,\"r\") \n",
    "        self.dictionary = sorted(set(preprocessing(file.read())))\n",
    "        self.parseDocumentsFile(documentsPath)\n",
    "        self.documentsCount = len(self.documents)\n",
    "\n",
    "    def parseDocumentsFile(self, documentsPath):\n",
    "        file = open(documentsPath,\"r\") \n",
    "        text = file.read()\n",
    "        self.documents = text.split(\"\\n\\n\")\n",
    "        self.titles = [doc.split(\"\\n\")[0] for doc in self.documents]\n",
    "    "
   ]
  },
  {
   "cell_type": "code",
   "execution_count": 26,
   "metadata": {},
   "outputs": [],
   "source": [
    "collection = Collection(\"documents-2.txt\", \"keywords-2.txt\")"
   ]
  },
  {
   "cell_type": "markdown",
   "metadata": {},
   "source": [
    "$TODO$ Use $TfidfVectorizer$ from sklearn.feature_extraction.text to represent given documents in TF-IDF representation (as tokenizer pass preprocessing function, as vocabulary pass field dictionary from collection variable), set also parameter lowercase to True. You can later change this parameter to check if results change.\n",
    "To get TF-IDF representation call method fit_transform from TfidfVectorizer class."
   ]
  },
  {
   "cell_type": "code",
   "execution_count": 30,
   "metadata": {},
   "outputs": [],
   "source": [
    "vectorizer = TfidfVectorizer(tokenizer=preprocessing, vocabulary=collection.dictionary, lowercase=True)\n",
    "tfidfs = vectorizer.fit_transform(collection.documents)"
   ]
  },
  {
   "cell_type": "markdown",
   "metadata": {},
   "source": [
    "The method below prints clustering results in the form of list of documents titles. Groups are separated by blan line. It will be used later."
   ]
  },
  {
   "cell_type": "code",
   "execution_count": 32,
   "metadata": {},
   "outputs": [],
   "source": [
    "def printResults(titles, groupLabels, k):\n",
    "    results = [[] for i in range(k)]\n",
    "    for docId in range(len(titles)):\n",
    "        results[groupLabels[docId]].append(titles[docId])\n",
    "    \n",
    "    for group in results:\n",
    "        for title in group:\n",
    "            print(title)\n",
    "        print(\"\")"
   ]
  },
  {
   "cell_type": "markdown",
   "metadata": {},
   "source": [
    "Parameter k is the number of created clusters. The original dataset contains documenets from 9 classes (anaconda, animal planet, java island, java programming, meat puppets, perl, python, python snake, svd) but you can change it and observe the clustering results changes."
   ]
  },
  {
   "cell_type": "code",
   "execution_count": 48,
   "metadata": {},
   "outputs": [],
   "source": [
    "k = 5"
   ]
  },
  {
   "cell_type": "markdown",
   "metadata": {},
   "source": [
    "$TODO$ Use KMeans class object (find proper parameter to pass k value) and method fit (with computed tfidfs as parameter). Printed results shows found clusters."
   ]
  },
  {
   "cell_type": "code",
   "execution_count": 49,
   "metadata": {},
   "outputs": [
    {
     "name": "stdout",
     "output_type": "stream",
     "text": [
      "meatpuppets\n",
      "meatpuppets\n",
      "meatpuppets\n",
      "meatpuppets\n",
      "meatpuppets\n",
      "meatpuppets\n",
      "meatpuppets\n",
      "meatpuppets\n",
      "meatpuppets\n",
      "\n",
      "animal planet\n",
      "animal planet\n",
      "animal planet\n",
      "animal planet\n",
      "animal planet\n",
      "animal planet\n",
      "animal planet\n",
      "animal planet\n",
      "python\n",
      "python\n",
      "python\n",
      "python\n",
      "python\n",
      "python\n",
      "python\n",
      "python\n",
      "python\n",
      "python\n",
      "pythonsnake\n",
      "pythonsnake\n",
      "pythonsnake\n",
      "pythonsnake\n",
      "pythonsnake\n",
      "pythonsnake\n",
      "pythonsnake\n",
      "pythonsnake\n",
      "pythonsnake\n",
      "pythonsnake\n",
      "pythonsnake\n",
      "pythonsnake\n",
      "pythonsnake\n",
      "\n",
      "anaconda\n",
      "anaconda\n",
      "anaconda\n",
      "anaconda\n",
      "anaconda\n",
      "anaconda\n",
      "anaconda\n",
      "anaconda\n",
      "anaconda\n",
      "anaconda\n",
      "anaconda\n",
      "pythonsnake\n",
      "pythonsnake\n",
      "pythonsnake\n",
      "pythonsnake\n",
      "pythonsnake\n",
      "pythonsnake\n",
      "pythonsnake\n",
      "\n",
      "svd\n",
      "svd\n",
      "svd\n",
      "svd\n",
      "svd\n",
      "svd\n",
      "svd\n",
      "svd\n",
      "svd\n",
      "svd\n",
      "\n",
      "javaisland\n",
      "javaisland\n",
      "javaisland\n",
      "javaisland\n",
      "javaisland\n",
      "javaisland\n",
      "javaisland\n",
      "javaisland\n",
      "javaisland\n",
      "javaisland\n",
      "javaisland\n",
      "javaisland\n",
      "javaisland\n",
      "javaprogramming\n",
      "javaprogramming\n",
      "javaprogramming\n",
      "javaprogramming\n",
      "javaprogramming\n",
      "javaprogramming\n",
      "javaprogramming\n",
      "javaprogramming\n",
      "javaprogramming\n",
      "javaprogramming\n",
      "javaprogramming\n",
      "meatpuppets\n",
      "perl\n",
      "perl\n",
      "perl\n",
      "perl\n",
      "perl\n",
      "perl\n",
      "perl\n",
      "perl\n",
      "perl\n",
      "perl\n",
      "\n"
     ]
    }
   ],
   "source": [
    "kmeans = KMeans(n_clusters=k, random_state=0).fit(tfidfs)\n",
    "printResults(collection.titles, kmeans.labels_, k)"
   ]
  },
  {
   "cell_type": "markdown",
   "metadata": {},
   "source": [
    "$TODO$ Do the same thing using Agglomerative Clustering (AgglomerativeClustering class). Method fit in this class requires dense array, so pass tfidfs.toarray() as parameter. Try different affinity and linkage parameters. Observe results changes. Try to find parameters which give the best results. \n",
    "See documentation (http://scikit-learn.org/stable/modules/generated/sklearn.cluster.AgglomerativeClustering.html) for further information."
   ]
  },
  {
   "cell_type": "code",
   "execution_count": 45,
   "metadata": {},
   "outputs": [
    {
     "name": "stdout",
     "output_type": "stream",
     "text": [
      "anaconda\n",
      "javaisland\n",
      "javaisland\n",
      "javaprogramming\n",
      "javaprogramming\n",
      "javaprogramming\n",
      "meatpuppets\n",
      "python\n",
      "python\n",
      "python\n",
      "python\n",
      "python\n",
      "python\n",
      "python\n",
      "python\n",
      "python\n",
      "python\n",
      "pythonsnake\n",
      "pythonsnake\n",
      "pythonsnake\n",
      "pythonsnake\n",
      "pythonsnake\n",
      "pythonsnake\n",
      "pythonsnake\n",
      "pythonsnake\n",
      "pythonsnake\n",
      "pythonsnake\n",
      "pythonsnake\n",
      "\n",
      "javaisland\n",
      "javaisland\n",
      "javaisland\n",
      "javaisland\n",
      "javaisland\n",
      "javaisland\n",
      "javaisland\n",
      "javaisland\n",
      "javaisland\n",
      "javaisland\n",
      "javaisland\n",
      "javaprogramming\n",
      "\n",
      "javaprogramming\n",
      "javaprogramming\n",
      "javaprogramming\n",
      "javaprogramming\n",
      "javaprogramming\n",
      "javaprogramming\n",
      "javaprogramming\n",
      "perl\n",
      "perl\n",
      "perl\n",
      "perl\n",
      "\n",
      "pythonsnake\n",
      "pythonsnake\n",
      "pythonsnake\n",
      "pythonsnake\n",
      "pythonsnake\n",
      "pythonsnake\n",
      "pythonsnake\n",
      "pythonsnake\n",
      "\n",
      "meatpuppets\n",
      "meatpuppets\n",
      "meatpuppets\n",
      "meatpuppets\n",
      "meatpuppets\n",
      "meatpuppets\n",
      "meatpuppets\n",
      "meatpuppets\n",
      "meatpuppets\n",
      "\n",
      "anaconda\n",
      "anaconda\n",
      "anaconda\n",
      "anaconda\n",
      "anaconda\n",
      "anaconda\n",
      "anaconda\n",
      "anaconda\n",
      "anaconda\n",
      "anaconda\n",
      "pythonsnake\n",
      "\n",
      "animal planet\n",
      "animal planet\n",
      "animal planet\n",
      "animal planet\n",
      "animal planet\n",
      "animal planet\n",
      "animal planet\n",
      "animal planet\n",
      "\n",
      "svd\n",
      "svd\n",
      "svd\n",
      "svd\n",
      "svd\n",
      "svd\n",
      "svd\n",
      "svd\n",
      "svd\n",
      "svd\n",
      "\n",
      "perl\n",
      "perl\n",
      "perl\n",
      "perl\n",
      "perl\n",
      "perl\n",
      "\n"
     ]
    }
   ],
   "source": [
    "#TODO try with different affinity (cosine, euclidean) and linkage (ward, average, complete)\n",
    "agglomerative = AgglomerativeClustering(n_clusters=k, affinity='euclidean', linkage='ward').fit(tfidfs.toarray())\n",
    "\n",
    "printResults(collection.titles, agglomerative.labels_, k)"
   ]
  },
  {
   "cell_type": "markdown",
   "metadata": {},
   "source": [
    "# Exercice 2 - Collaborative filtering"
   ]
  },
  {
   "cell_type": "markdown",
   "metadata": {},
   "source": [
    "Implement user-based collaborative filtering to find recommendations for new user."
   ]
  },
  {
   "cell_type": "code",
   "execution_count": 116,
   "metadata": {},
   "outputs": [],
   "source": [
    "import scipy.stats\n",
    "import numpy"
   ]
  },
  {
   "cell_type": "markdown",
   "metadata": {},
   "source": [
    "The code below reads file \"movies.csv\" with ratings in the following form (userId, itemId, rating) and processes it. As a result in the variable ratings there is a matrix with users as rows and items as colunms. In cells there are ratings."
   ]
  },
  {
   "cell_type": "code",
   "execution_count": 117,
   "metadata": {},
   "outputs": [],
   "source": [
    "def readRatings(path):\n",
    "    file=open(path, \"r\")\n",
    "    lines = file.read().split(\"\\n\")\n",
    "    return([[int(x) for x in line.split(\",\")] for line in lines if line != \"\"])\n",
    "\n",
    "def processRatings(path):\n",
    "    ratings = readRatings(path)\n",
    "    maxUser = max([item[0] for item in ratings])\n",
    "    maxItem = max([item[1] for item in ratings])\n",
    "    ratMatrix = numpy.zeros((maxUser, maxItem))\n",
    "    for rat in ratings:\n",
    "        ratMatrix[rat[0]-1, rat[1]-1] = rat[2]\n",
    "    return(ratMatrix)\n",
    "ratings = processRatings(\"movies.csv\")"
   ]
  },
  {
   "cell_type": "markdown",
   "metadata": {},
   "source": [
    "The method removeNotRated allows to reduce list of rated by leaving only these rated with both users (not to compute similarity based on zeros meaning that user did not rate given movie)"
   ]
  },
  {
   "cell_type": "code",
   "execution_count": 118,
   "metadata": {},
   "outputs": [],
   "source": [
    "def removeNotRated(item1, item2):\n",
    "    indexes = [x for x in range(len(item1)) if item1[x] != 0 and item2[x] != 0]\n",
    "    newList1 = []\n",
    "    newList2 = []\n",
    "    for i in indexes:\n",
    "        newList1.append(item1[i])\n",
    "        newList2.append(item2[i])\n",
    "    return((newList1, newList2))"
   ]
  },
  {
   "cell_type": "markdown",
   "metadata": {},
   "source": [
    "$TODO$ implement similarity for pair of vectors (user ratings). Use Pearson correlation (scipy.stats.pearsonr). Handle situation if this method returns Nan (all rates for one user are equal). You can return -1 or 0 for these entries."
   ]
  },
  {
   "cell_type": "code",
   "execution_count": 119,
   "metadata": {},
   "outputs": [],
   "source": [
    "def similarity(item1, item2):\n",
    "    (item1, item2) = removeNotRated(item1, item2) #leaves only movies rated by both users\n",
    "    lPearson = scipy.stats.pearsonr(item1,item2)\n",
    "    if(math.isnan(lPearson[0])):\n",
    "        return 0\n",
    "    return lPearson[0]"
   ]
  },
  {
   "cell_type": "code",
   "execution_count": 120,
   "metadata": {},
   "outputs": [
    {
     "data": {
      "text/plain": [
       "0.1608412328543699"
      ]
     },
     "execution_count": 120,
     "metadata": {},
     "output_type": "execute_result"
    }
   ],
   "source": [
    "similarity(ratings[0],ratings[1])"
   ]
  },
  {
   "cell_type": "markdown",
   "metadata": {},
   "source": [
    "$TODO$ implement weighted average. RatingsCol parameter contains a column from ratings matrix (ratings of all users for one movie). Weights parameter is the array of similarities of users to current user (non-zero for k nearest neighbors, zeros for others)."
   ]
  },
  {
   "cell_type": "code",
   "execution_count": 164,
   "metadata": {},
   "outputs": [],
   "source": [
    "def weightedMean(ratingsCol, weights):\n",
    "    lWeightedMean = 0\n",
    "    lSumWeights = sum(weights)\n",
    "    if(lSumWeights != 0):\n",
    "        lWeightedMean = sum(r * w for r, w in zip(ratingsCol, weights)) / lSumWeights\n",
    "        \n",
    "    return lWeightedMean"
   ]
  },
  {
   "cell_type": "markdown",
   "metadata": {},
   "source": [
    "$TODO$ implement user-based collaborative filtering. Use the following steps:\n",
    "    * find similarities for all users fo given user (parameter userId). Remember not to take into consideration this user itself.\n",
    "    * sort similarities descending\n",
    "    * find weights vector - similarity for k nearest users, 0 for others\n",
    "    * find predicted ratings for all items, which werent already rated by this user\n",
    "        * call weightedMean method for all columns with zeros for given user and computed in step 2 weights vector)\n",
    "        * sort predicted values descending\n",
    "    * return results in the form of sorted descending list of tuples (itemId, predicted rating)"
   ]
  },
  {
   "cell_type": "code",
   "execution_count": 173,
   "metadata": {},
   "outputs": [],
   "source": [
    "k=10 #number of closest users used for recommendation\n",
    "def findRecommendationsUserBased(userId, raitingsMatrix):\n",
    "    lSimilarity=[]\n",
    "        \n",
    "    # find similarities - setting -1 should make current user last - ignoring for k < allUsers    \n",
    "    safeK = min(k, raitingsMatrix.shape[0] - 1)\n",
    "    for i in range(raitingsMatrix.shape[0]):\n",
    "        if i != userId:\n",
    "            lSimilarity.append(similarity(raitingsMatrix[userId], raitingsMatrix[i]))\n",
    "        else:\n",
    "            lSimilarity.append( -1)\n",
    "            \n",
    "    # sort similarities descending\n",
    "    lSortedIndexes = sorted(range(len(lSimilarity)), key=lambda k: lSimilarity[k], reverse=True)\n",
    "    lSortedIndexes[safeK:] = [0] * (len(lSortedIndexes) - safeK)    \n",
    "    \n",
    "    lWeightsVector = [0] * (len(lSortedIndexes))\n",
    "    for lIndex in lSortedIndexes:\n",
    "        if lIndex > 0:\n",
    "            lWeightsVector[lIndex] = lSimilarity[lIndex]\n",
    "        else:\n",
    "            break;\n",
    "                             \n",
    "    lPredictedRatings = []\n",
    "    for i in range(raitingsMatrix.shape[1]):        \n",
    "        lPredictedRatings.append((i, weightedMean([row[i] for row in raitingsMatrix], lWeightsVector)))\n",
    "    lPredictedRatings.sort(key=lambda tup: tup[1], reverse=True)   \n",
    "    \n",
    "    return lPredictedRatings"
   ]
  },
  {
   "cell_type": "markdown",
   "metadata": {},
   "source": [
    "The following code fragment prints 10 recommended movies for 10 first users. Notice that the user and movie IDs corespond the ones from input file, not the matrix indices. The matrix row/column index = user/movie ID - 1"
   ]
  },
  {
   "cell_type": "code",
   "execution_count": 174,
   "metadata": {},
   "outputs": [
    {
     "name": "stdout",
     "output_type": "stream",
     "text": [
      "User: 1, Item: 300, predicted rating: 3.7\n",
      "User: 1, Item: 313, predicted rating: 3.3\n",
      "User: 1, Item: 286, predicted rating: 2.5\n",
      "User: 1, Item: 294, predicted rating: 2.5\n",
      "User: 1, Item: 323, predicted rating: 2.4\n",
      "User: 1, Item: 288, predicted rating: 2.3\n",
      "User: 1, Item: 748, predicted rating: 2.3\n",
      "User: 1, Item: 328, predicted rating: 2.1\n",
      "User: 1, Item: 315, predicted rating: 1.9\n",
      "User: 1, Item: 678, predicted rating: 1.9\n",
      "\n",
      "User: 2, Item: 197, predicted rating: 2.51\n",
      "User: 2, Item: 100, predicted rating: 2.21\n",
      "User: 2, Item: 211, predicted rating: 2.2\n",
      "User: 2, Item: 659, predicted rating: 2.11\n",
      "User: 2, Item: 83, predicted rating: 2.0\n",
      "User: 2, Item: 137, predicted rating: 1.81\n",
      "User: 2, Item: 474, predicted rating: 1.81\n",
      "User: 2, Item: 483, predicted rating: 1.81\n",
      "User: 2, Item: 435, predicted rating: 1.8\n",
      "User: 2, Item: 655, predicted rating: 1.8\n",
      "\n",
      "User: 3, Item: 1, predicted rating: 3.2\n",
      "User: 3, Item: 50, predicted rating: 3.2\n",
      "User: 3, Item: 742, predicted rating: 3.2\n",
      "User: 3, Item: 121, predicted rating: 3.1\n",
      "User: 3, Item: 237, predicted rating: 2.5\n",
      "User: 3, Item: 7, predicted rating: 2.4\n",
      "User: 3, Item: 25, predicted rating: 2.4\n",
      "User: 3, Item: 100, predicted rating: 2.3\n",
      "User: 3, Item: 181, predicted rating: 2.2\n",
      "User: 3, Item: 282, predicted rating: 2.1\n",
      "\n",
      "User: 4, Item: 181, predicted rating: 3.0\n",
      "User: 4, Item: 50, predicted rating: 2.9\n",
      "User: 4, Item: 100, predicted rating: 2.8\n",
      "User: 4, Item: 121, predicted rating: 2.2\n",
      "User: 4, Item: 173, predicted rating: 2.2\n",
      "User: 4, Item: 25, predicted rating: 2.1\n",
      "User: 4, Item: 98, predicted rating: 2.1\n",
      "User: 4, Item: 258, predicted rating: 2.0\n",
      "User: 4, Item: 204, predicted rating: 1.9\n",
      "User: 4, Item: 1, predicted rating: 1.8\n",
      "\n",
      "User: 5, Item: 313, predicted rating: 3.0\n",
      "User: 5, Item: 286, predicted rating: 2.6\n",
      "User: 5, Item: 302, predicted rating: 2.2\n",
      "User: 5, Item: 268, predicted rating: 2.1\n",
      "User: 5, Item: 100, predicted rating: 2.0\n",
      "User: 5, Item: 258, predicted rating: 1.9\n",
      "User: 5, Item: 269, predicted rating: 1.9\n",
      "User: 5, Item: 288, predicted rating: 1.6\n",
      "User: 5, Item: 294, predicted rating: 1.6\n",
      "User: 5, Item: 301, predicted rating: 1.5\n",
      "\n"
     ]
    }
   ],
   "source": [
    "usersCount = ratings.shape[0]\n",
    "for user in range(5):\n",
    "    recommendations = findRecommendationsUserBased(user, ratings)\n",
    "    for i in range(10):\n",
    "        print(\"User: \" + str(user + 1) + \", Item: \" + str(recommendations[i][0] + 1) + \", predicted rating: \" + str(round(recommendations[i][1], 2)))\n",
    "    print(\"\")"
   ]
  },
  {
   "cell_type": "code",
   "execution_count": null,
   "metadata": {},
   "outputs": [],
   "source": []
  },
  {
   "cell_type": "code",
   "execution_count": null,
   "metadata": {},
   "outputs": [],
   "source": []
  }
 ],
 "metadata": {
  "kernelspec": {
   "display_name": "Python 3",
   "language": "python",
   "name": "python3"
  },
  "language_info": {
   "codemirror_mode": {
    "name": "ipython",
    "version": 3
   },
   "file_extension": ".py",
   "mimetype": "text/x-python",
   "name": "python",
   "nbconvert_exporter": "python",
   "pygments_lexer": "ipython3",
   "version": "3.6.6"
  }
 },
 "nbformat": 4,
 "nbformat_minor": 2
}
